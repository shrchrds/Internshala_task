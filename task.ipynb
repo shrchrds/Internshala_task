{
 "cells": [
  {
   "cell_type": "code",
   "execution_count": 1,
   "id": "de1e3cfe",
   "metadata": {},
   "outputs": [],
   "source": [
    "import numpy as np\n",
    "\n",
    "import pandas as pd\n",
    "\n",
    "from sklearn.model_selection import train_test_split, GridSearchCV\n",
    "\n",
    "from sklearn.preprocessing import StandardScaler\n",
    "\n",
    "from sklearn.ensemble import RandomForestRegressor\n",
    "\n",
    "from sklearn.linear_model import LinearRegression, Ridge, Lasso, ElasticNet\n",
    "\n",
    "from sklearn.svm import SVR\n",
    "\n",
    "from sklearn.tree import DecisionTreeRegressor\n",
    "\n",
    "from sklearn.neighbors import KNeighborsRegressor\n",
    "\n",
    "from sklearn.metrics import mean_squared_error, r2_score"
   ]
  },
  {
   "cell_type": "markdown",
   "id": "f3513549",
   "metadata": {},
   "source": [
    "### 1. reading given json file`"
   ]
  },
  {
   "cell_type": "code",
   "execution_count": 2,
   "id": "f397d459",
   "metadata": {
    "scrolled": true
   },
   "outputs": [
    {
     "data": {
      "text/html": [
       "<div>\n",
       "<style scoped>\n",
       "    .dataframe tbody tr th:only-of-type {\n",
       "        vertical-align: middle;\n",
       "    }\n",
       "\n",
       "    .dataframe tbody tr th {\n",
       "        vertical-align: top;\n",
       "    }\n",
       "\n",
       "    .dataframe thead th {\n",
       "        text-align: right;\n",
       "    }\n",
       "</style>\n",
       "<table border=\"1\" class=\"dataframe\">\n",
       "  <thead>\n",
       "    <tr style=\"text-align: right;\">\n",
       "      <th></th>\n",
       "      <th>session_name</th>\n",
       "      <th>session_description</th>\n",
       "      <th>design_state_data</th>\n",
       "    </tr>\n",
       "  </thead>\n",
       "  <tbody>\n",
       "    <tr>\n",
       "      <th>algorithms</th>\n",
       "      <td>test</td>\n",
       "      <td>test</td>\n",
       "      <td>{'RandomForestClassifier': {'model_name': 'Ran...</td>\n",
       "    </tr>\n",
       "    <tr>\n",
       "      <th>feature_generation</th>\n",
       "      <td>test</td>\n",
       "      <td>test</td>\n",
       "      <td>{'linear_interactions': [['petal_length', 'sep...</td>\n",
       "    </tr>\n",
       "    <tr>\n",
       "      <th>feature_handling</th>\n",
       "      <td>test</td>\n",
       "      <td>test</td>\n",
       "      <td>{'sepal_length': {'feature_name': 'sepal_lengt...</td>\n",
       "    </tr>\n",
       "    <tr>\n",
       "      <th>feature_reduction</th>\n",
       "      <td>test</td>\n",
       "      <td>test</td>\n",
       "      <td>{'feature_reduction_method': 'Tree-based', 'nu...</td>\n",
       "    </tr>\n",
       "    <tr>\n",
       "      <th>hyperparameters</th>\n",
       "      <td>test</td>\n",
       "      <td>test</td>\n",
       "      <td>{'stratergy': 'Grid Search', 'shuffle_grid': T...</td>\n",
       "    </tr>\n",
       "    <tr>\n",
       "      <th>metrics</th>\n",
       "      <td>test</td>\n",
       "      <td>test</td>\n",
       "      <td>{'optomize_model_hyperparameters_for': 'AUC', ...</td>\n",
       "    </tr>\n",
       "    <tr>\n",
       "      <th>probability_calibration</th>\n",
       "      <td>test</td>\n",
       "      <td>test</td>\n",
       "      <td>{'probability_calibration_method': 'Sigmoid - ...</td>\n",
       "    </tr>\n",
       "    <tr>\n",
       "      <th>session_info</th>\n",
       "      <td>test</td>\n",
       "      <td>test</td>\n",
       "      <td>{'project_id': '1', 'experiment_id': 'kkkk-11'...</td>\n",
       "    </tr>\n",
       "    <tr>\n",
       "      <th>target</th>\n",
       "      <td>test</td>\n",
       "      <td>test</td>\n",
       "      <td>{'prediction_type': 'Regression', 'target': 'p...</td>\n",
       "    </tr>\n",
       "    <tr>\n",
       "      <th>train</th>\n",
       "      <td>test</td>\n",
       "      <td>test</td>\n",
       "      <td>{'policy': 'Split the dataset', 'time_variable...</td>\n",
       "    </tr>\n",
       "    <tr>\n",
       "      <th>weighting_stratergy</th>\n",
       "      <td>test</td>\n",
       "      <td>test</td>\n",
       "      <td>{'weighting_stratergy_method': 'Sample weights...</td>\n",
       "    </tr>\n",
       "  </tbody>\n",
       "</table>\n",
       "</div>"
      ],
      "text/plain": [
       "                        session_name session_description  \\\n",
       "algorithms                      test                test   \n",
       "feature_generation              test                test   \n",
       "feature_handling                test                test   \n",
       "feature_reduction               test                test   \n",
       "hyperparameters                 test                test   \n",
       "metrics                         test                test   \n",
       "probability_calibration         test                test   \n",
       "session_info                    test                test   \n",
       "target                          test                test   \n",
       "train                           test                test   \n",
       "weighting_stratergy             test                test   \n",
       "\n",
       "                                                         design_state_data  \n",
       "algorithms               {'RandomForestClassifier': {'model_name': 'Ran...  \n",
       "feature_generation       {'linear_interactions': [['petal_length', 'sep...  \n",
       "feature_handling         {'sepal_length': {'feature_name': 'sepal_lengt...  \n",
       "feature_reduction        {'feature_reduction_method': 'Tree-based', 'nu...  \n",
       "hyperparameters          {'stratergy': 'Grid Search', 'shuffle_grid': T...  \n",
       "metrics                  {'optomize_model_hyperparameters_for': 'AUC', ...  \n",
       "probability_calibration  {'probability_calibration_method': 'Sigmoid - ...  \n",
       "session_info             {'project_id': '1', 'experiment_id': 'kkkk-11'...  \n",
       "target                   {'prediction_type': 'Regression', 'target': 'p...  \n",
       "train                    {'policy': 'Split the dataset', 'time_variable...  \n",
       "weighting_stratergy      {'weighting_stratergy_method': 'Sample weights...  "
      ]
     },
     "execution_count": 2,
     "metadata": {},
     "output_type": "execute_result"
    }
   ],
   "source": [
    "algoparams = pd.read_json(\"algoparams_from_ui.json\")\n",
    "algoparams"
   ]
  },
  {
   "cell_type": "code",
   "execution_count": 3,
   "id": "00332735",
   "metadata": {
    "scrolled": true
   },
   "outputs": [
    {
     "data": {
      "text/plain": [
       "{'prediction_type': 'Regression',\n",
       " 'target': 'petal_width',\n",
       " 'type': 'regression',\n",
       " 'partitioning': True}"
      ]
     },
     "execution_count": 3,
     "metadata": {},
     "output_type": "execute_result"
    }
   ],
   "source": [
    "algoparams['design_state_data']['target']"
   ]
  },
  {
   "cell_type": "code",
   "execution_count": 4,
   "id": "2a0ec356",
   "metadata": {},
   "outputs": [
    {
     "data": {
      "text/plain": [
       "{'stratergy': 'Grid Search',\n",
       " 'shuffle_grid': True,\n",
       " 'random_state': 1,\n",
       " 'max_iterations': 2,\n",
       " 'max_search_time': 3,\n",
       " 'parallelism': 5,\n",
       " 'cross_validation_stratergy': 'Time-based K-fold(with overlap)',\n",
       " 'num_of_folds': 6,\n",
       " 'split_ratio': 0,\n",
       " 'stratified': True}"
      ]
     },
     "execution_count": 4,
     "metadata": {},
     "output_type": "execute_result"
    }
   ],
   "source": [
    "algoparams.loc['hyperparameters']['design_state_data']"
   ]
  },
  {
   "cell_type": "markdown",
   "id": "46080fec",
   "metadata": {},
   "source": [
    "### 2. reading iris.csv and finding out missing imputation needs to be applied"
   ]
  },
  {
   "cell_type": "code",
   "execution_count": 5,
   "id": "3352eac5",
   "metadata": {
    "scrolled": true
   },
   "outputs": [
    {
     "data": {
      "text/html": [
       "<div>\n",
       "<style scoped>\n",
       "    .dataframe tbody tr th:only-of-type {\n",
       "        vertical-align: middle;\n",
       "    }\n",
       "\n",
       "    .dataframe tbody tr th {\n",
       "        vertical-align: top;\n",
       "    }\n",
       "\n",
       "    .dataframe thead th {\n",
       "        text-align: right;\n",
       "    }\n",
       "</style>\n",
       "<table border=\"1\" class=\"dataframe\">\n",
       "  <thead>\n",
       "    <tr style=\"text-align: right;\">\n",
       "      <th></th>\n",
       "      <th>sepal_length</th>\n",
       "      <th>sepal_width</th>\n",
       "      <th>petal_length</th>\n",
       "      <th>petal_width</th>\n",
       "      <th>species</th>\n",
       "    </tr>\n",
       "  </thead>\n",
       "  <tbody>\n",
       "    <tr>\n",
       "      <th>0</th>\n",
       "      <td>5.1</td>\n",
       "      <td>3.5</td>\n",
       "      <td>1.4</td>\n",
       "      <td>0.2</td>\n",
       "      <td>Iris-setosa</td>\n",
       "    </tr>\n",
       "    <tr>\n",
       "      <th>1</th>\n",
       "      <td>4.9</td>\n",
       "      <td>3.0</td>\n",
       "      <td>1.4</td>\n",
       "      <td>0.2</td>\n",
       "      <td>Iris-setosa</td>\n",
       "    </tr>\n",
       "    <tr>\n",
       "      <th>2</th>\n",
       "      <td>4.7</td>\n",
       "      <td>3.2</td>\n",
       "      <td>1.3</td>\n",
       "      <td>0.2</td>\n",
       "      <td>Iris-setosa</td>\n",
       "    </tr>\n",
       "    <tr>\n",
       "      <th>3</th>\n",
       "      <td>4.6</td>\n",
       "      <td>3.1</td>\n",
       "      <td>1.5</td>\n",
       "      <td>0.2</td>\n",
       "      <td>Iris-setosa</td>\n",
       "    </tr>\n",
       "    <tr>\n",
       "      <th>4</th>\n",
       "      <td>5.0</td>\n",
       "      <td>3.6</td>\n",
       "      <td>1.4</td>\n",
       "      <td>0.2</td>\n",
       "      <td>Iris-setosa</td>\n",
       "    </tr>\n",
       "    <tr>\n",
       "      <th>...</th>\n",
       "      <td>...</td>\n",
       "      <td>...</td>\n",
       "      <td>...</td>\n",
       "      <td>...</td>\n",
       "      <td>...</td>\n",
       "    </tr>\n",
       "    <tr>\n",
       "      <th>145</th>\n",
       "      <td>6.7</td>\n",
       "      <td>3.0</td>\n",
       "      <td>5.2</td>\n",
       "      <td>2.3</td>\n",
       "      <td>Iris-virginica</td>\n",
       "    </tr>\n",
       "    <tr>\n",
       "      <th>146</th>\n",
       "      <td>6.3</td>\n",
       "      <td>2.5</td>\n",
       "      <td>5.0</td>\n",
       "      <td>1.9</td>\n",
       "      <td>Iris-virginica</td>\n",
       "    </tr>\n",
       "    <tr>\n",
       "      <th>147</th>\n",
       "      <td>6.5</td>\n",
       "      <td>3.0</td>\n",
       "      <td>5.2</td>\n",
       "      <td>2.0</td>\n",
       "      <td>Iris-virginica</td>\n",
       "    </tr>\n",
       "    <tr>\n",
       "      <th>148</th>\n",
       "      <td>6.2</td>\n",
       "      <td>3.4</td>\n",
       "      <td>5.4</td>\n",
       "      <td>2.3</td>\n",
       "      <td>Iris-virginica</td>\n",
       "    </tr>\n",
       "    <tr>\n",
       "      <th>149</th>\n",
       "      <td>5.9</td>\n",
       "      <td>3.0</td>\n",
       "      <td>5.1</td>\n",
       "      <td>1.8</td>\n",
       "      <td>Iris-virginica</td>\n",
       "    </tr>\n",
       "  </tbody>\n",
       "</table>\n",
       "<p>150 rows × 5 columns</p>\n",
       "</div>"
      ],
      "text/plain": [
       "     sepal_length  sepal_width  petal_length  petal_width         species\n",
       "0             5.1          3.5           1.4          0.2     Iris-setosa\n",
       "1             4.9          3.0           1.4          0.2     Iris-setosa\n",
       "2             4.7          3.2           1.3          0.2     Iris-setosa\n",
       "3             4.6          3.1           1.5          0.2     Iris-setosa\n",
       "4             5.0          3.6           1.4          0.2     Iris-setosa\n",
       "..            ...          ...           ...          ...             ...\n",
       "145           6.7          3.0           5.2          2.3  Iris-virginica\n",
       "146           6.3          2.5           5.0          1.9  Iris-virginica\n",
       "147           6.5          3.0           5.2          2.0  Iris-virginica\n",
       "148           6.2          3.4           5.4          2.3  Iris-virginica\n",
       "149           5.9          3.0           5.1          1.8  Iris-virginica\n",
       "\n",
       "[150 rows x 5 columns]"
      ]
     },
     "execution_count": 5,
     "metadata": {},
     "output_type": "execute_result"
    }
   ],
   "source": [
    "df = pd.read_csv(\"iris.csv\")\n",
    "df"
   ]
  },
  {
   "cell_type": "code",
   "execution_count": 6,
   "id": "672d532b",
   "metadata": {},
   "outputs": [
    {
     "data": {
      "text/plain": [
       "sepal_length    0\n",
       "sepal_width     0\n",
       "petal_length    0\n",
       "petal_width     0\n",
       "species         0\n",
       "dtype: int64"
      ]
     },
     "execution_count": 6,
     "metadata": {},
     "output_type": "execute_result"
    }
   ],
   "source": [
    "# finding missing values\n",
    "df.isnull().sum()"
   ]
  },
  {
   "cell_type": "markdown",
   "id": "b449a48e",
   "metadata": {},
   "source": [
    "##### No null values found. So no need to do any imputation"
   ]
  },
  {
   "cell_type": "code",
   "execution_count": 7,
   "id": "7cd3ee37",
   "metadata": {},
   "outputs": [
    {
     "name": "stdout",
     "output_type": "stream",
     "text": [
      "<class 'pandas.core.frame.DataFrame'>\n",
      "RangeIndex: 150 entries, 0 to 149\n",
      "Data columns (total 5 columns):\n",
      " #   Column        Non-Null Count  Dtype  \n",
      "---  ------        --------------  -----  \n",
      " 0   sepal_length  150 non-null    float64\n",
      " 1   sepal_width   150 non-null    float64\n",
      " 2   petal_length  150 non-null    float64\n",
      " 3   petal_width   150 non-null    float64\n",
      " 4   species       150 non-null    object \n",
      "dtypes: float64(4), object(1)\n",
      "memory usage: 6.0+ KB\n"
     ]
    }
   ],
   "source": [
    "df.info()"
   ]
  },
  {
   "cell_type": "markdown",
   "id": "fff700c7",
   "metadata": {},
   "source": [
    "### Handling categorical features"
   ]
  },
  {
   "cell_type": "code",
   "execution_count": 8,
   "id": "aad899fa",
   "metadata": {},
   "outputs": [],
   "source": [
    "df = pd.get_dummies(df)"
   ]
  },
  {
   "cell_type": "code",
   "execution_count": 9,
   "id": "436b3208",
   "metadata": {},
   "outputs": [
    {
     "data": {
      "text/html": [
       "<div>\n",
       "<style scoped>\n",
       "    .dataframe tbody tr th:only-of-type {\n",
       "        vertical-align: middle;\n",
       "    }\n",
       "\n",
       "    .dataframe tbody tr th {\n",
       "        vertical-align: top;\n",
       "    }\n",
       "\n",
       "    .dataframe thead th {\n",
       "        text-align: right;\n",
       "    }\n",
       "</style>\n",
       "<table border=\"1\" class=\"dataframe\">\n",
       "  <thead>\n",
       "    <tr style=\"text-align: right;\">\n",
       "      <th></th>\n",
       "      <th>sepal_length</th>\n",
       "      <th>sepal_width</th>\n",
       "      <th>petal_length</th>\n",
       "      <th>petal_width</th>\n",
       "      <th>species_Iris-setosa</th>\n",
       "      <th>species_Iris-versicolor</th>\n",
       "      <th>species_Iris-virginica</th>\n",
       "    </tr>\n",
       "  </thead>\n",
       "  <tbody>\n",
       "    <tr>\n",
       "      <th>0</th>\n",
       "      <td>5.1</td>\n",
       "      <td>3.5</td>\n",
       "      <td>1.4</td>\n",
       "      <td>0.2</td>\n",
       "      <td>1</td>\n",
       "      <td>0</td>\n",
       "      <td>0</td>\n",
       "    </tr>\n",
       "    <tr>\n",
       "      <th>1</th>\n",
       "      <td>4.9</td>\n",
       "      <td>3.0</td>\n",
       "      <td>1.4</td>\n",
       "      <td>0.2</td>\n",
       "      <td>1</td>\n",
       "      <td>0</td>\n",
       "      <td>0</td>\n",
       "    </tr>\n",
       "    <tr>\n",
       "      <th>2</th>\n",
       "      <td>4.7</td>\n",
       "      <td>3.2</td>\n",
       "      <td>1.3</td>\n",
       "      <td>0.2</td>\n",
       "      <td>1</td>\n",
       "      <td>0</td>\n",
       "      <td>0</td>\n",
       "    </tr>\n",
       "    <tr>\n",
       "      <th>3</th>\n",
       "      <td>4.6</td>\n",
       "      <td>3.1</td>\n",
       "      <td>1.5</td>\n",
       "      <td>0.2</td>\n",
       "      <td>1</td>\n",
       "      <td>0</td>\n",
       "      <td>0</td>\n",
       "    </tr>\n",
       "    <tr>\n",
       "      <th>4</th>\n",
       "      <td>5.0</td>\n",
       "      <td>3.6</td>\n",
       "      <td>1.4</td>\n",
       "      <td>0.2</td>\n",
       "      <td>1</td>\n",
       "      <td>0</td>\n",
       "      <td>0</td>\n",
       "    </tr>\n",
       "    <tr>\n",
       "      <th>...</th>\n",
       "      <td>...</td>\n",
       "      <td>...</td>\n",
       "      <td>...</td>\n",
       "      <td>...</td>\n",
       "      <td>...</td>\n",
       "      <td>...</td>\n",
       "      <td>...</td>\n",
       "    </tr>\n",
       "    <tr>\n",
       "      <th>145</th>\n",
       "      <td>6.7</td>\n",
       "      <td>3.0</td>\n",
       "      <td>5.2</td>\n",
       "      <td>2.3</td>\n",
       "      <td>0</td>\n",
       "      <td>0</td>\n",
       "      <td>1</td>\n",
       "    </tr>\n",
       "    <tr>\n",
       "      <th>146</th>\n",
       "      <td>6.3</td>\n",
       "      <td>2.5</td>\n",
       "      <td>5.0</td>\n",
       "      <td>1.9</td>\n",
       "      <td>0</td>\n",
       "      <td>0</td>\n",
       "      <td>1</td>\n",
       "    </tr>\n",
       "    <tr>\n",
       "      <th>147</th>\n",
       "      <td>6.5</td>\n",
       "      <td>3.0</td>\n",
       "      <td>5.2</td>\n",
       "      <td>2.0</td>\n",
       "      <td>0</td>\n",
       "      <td>0</td>\n",
       "      <td>1</td>\n",
       "    </tr>\n",
       "    <tr>\n",
       "      <th>148</th>\n",
       "      <td>6.2</td>\n",
       "      <td>3.4</td>\n",
       "      <td>5.4</td>\n",
       "      <td>2.3</td>\n",
       "      <td>0</td>\n",
       "      <td>0</td>\n",
       "      <td>1</td>\n",
       "    </tr>\n",
       "    <tr>\n",
       "      <th>149</th>\n",
       "      <td>5.9</td>\n",
       "      <td>3.0</td>\n",
       "      <td>5.1</td>\n",
       "      <td>1.8</td>\n",
       "      <td>0</td>\n",
       "      <td>0</td>\n",
       "      <td>1</td>\n",
       "    </tr>\n",
       "  </tbody>\n",
       "</table>\n",
       "<p>150 rows × 7 columns</p>\n",
       "</div>"
      ],
      "text/plain": [
       "     sepal_length  sepal_width  petal_length  petal_width  \\\n",
       "0             5.1          3.5           1.4          0.2   \n",
       "1             4.9          3.0           1.4          0.2   \n",
       "2             4.7          3.2           1.3          0.2   \n",
       "3             4.6          3.1           1.5          0.2   \n",
       "4             5.0          3.6           1.4          0.2   \n",
       "..            ...          ...           ...          ...   \n",
       "145           6.7          3.0           5.2          2.3   \n",
       "146           6.3          2.5           5.0          1.9   \n",
       "147           6.5          3.0           5.2          2.0   \n",
       "148           6.2          3.4           5.4          2.3   \n",
       "149           5.9          3.0           5.1          1.8   \n",
       "\n",
       "     species_Iris-setosa  species_Iris-versicolor  species_Iris-virginica  \n",
       "0                      1                        0                       0  \n",
       "1                      1                        0                       0  \n",
       "2                      1                        0                       0  \n",
       "3                      1                        0                       0  \n",
       "4                      1                        0                       0  \n",
       "..                   ...                      ...                     ...  \n",
       "145                    0                        0                       1  \n",
       "146                    0                        0                       1  \n",
       "147                    0                        0                       1  \n",
       "148                    0                        0                       1  \n",
       "149                    0                        0                       1  \n",
       "\n",
       "[150 rows x 7 columns]"
      ]
     },
     "execution_count": 9,
     "metadata": {},
     "output_type": "execute_result"
    }
   ],
   "source": [
    "df"
   ]
  },
  {
   "cell_type": "markdown",
   "id": "4d1b4c8b",
   "metadata": {},
   "source": [
    "### 3. making model objects using sklearn that is required for prediction type"
   ]
  },
  {
   "cell_type": "markdown",
   "id": "18b6aa33",
   "metadata": {},
   "source": [
    "### Dividing data into target variable and features"
   ]
  },
  {
   "cell_type": "code",
   "execution_count": 10,
   "id": "3e36d386",
   "metadata": {},
   "outputs": [],
   "source": [
    "X = df.drop('petal_width',axis=1)"
   ]
  },
  {
   "cell_type": "code",
   "execution_count": 11,
   "id": "de934f03",
   "metadata": {},
   "outputs": [],
   "source": [
    "y= df['petal_width']"
   ]
  },
  {
   "cell_type": "markdown",
   "id": "3dbd9af0",
   "metadata": {},
   "source": [
    "### Splitting data into train and test"
   ]
  },
  {
   "cell_type": "code",
   "execution_count": 12,
   "id": "02b51098",
   "metadata": {},
   "outputs": [],
   "source": [
    "############################ SPLITTING TWICE ####################### \n",
    "\n",
    "# 70% of data is training data, set aside other 30%\n",
    "X_train, X_other, y_train, y_other = train_test_split(X, y, test_size=0.3, random_state=42)\n",
    "\n",
    "# Remaining 30% is split into evaluation and test sets\n",
    "# Each is 15% of the original data size\n",
    "X_eval, X_test, y_eval, y_test = train_test_split(X_other, y_other, test_size=0.5, random_state=42)"
   ]
  },
  {
   "cell_type": "code",
   "execution_count": 13,
   "id": "adf58ef0",
   "metadata": {},
   "outputs": [],
   "source": [
    "# SCALE DATA\n",
    "\n",
    "scaler = StandardScaler()\n",
    "scaler.fit(X_train)\n",
    "X_train = scaler.transform(X_train)\n",
    "X_eval = scaler.transform(X_eval)\n",
    "X_test = scaler.transform(X_test)"
   ]
  },
  {
   "cell_type": "markdown",
   "id": "63f3a002",
   "metadata": {},
   "source": [
    "### Trying different Algorithms to find predictions"
   ]
  },
  {
   "cell_type": "code",
   "execution_count": 14,
   "id": "3bbd2d3a",
   "metadata": {},
   "outputs": [],
   "source": [
    "models = {'RandomForestRegressor':RandomForestRegressor(),\n",
    "          'LinearRegression':LinearRegression(),\n",
    "          'RidgeRegression':Ridge(),\n",
    "          'LassoRegression':Lasso(),\n",
    "          'ElasticNetRegression':ElasticNet(),\n",
    "          'SVR':SVR(),\n",
    "          'DecisionTreeRegressor':DecisionTreeRegressor(),\n",
    "}"
   ]
  },
  {
   "cell_type": "code",
   "execution_count": 15,
   "id": "c3574892",
   "metadata": {},
   "outputs": [],
   "source": [
    "n = len(df)\n",
    "k = len(X.columns)"
   ]
  },
  {
   "cell_type": "code",
   "execution_count": 29,
   "id": "53aed939",
   "metadata": {
    "scrolled": true
   },
   "outputs": [
    {
     "name": "stdout",
     "output_type": "stream",
     "text": [
      "********** RandomForestRegressor **********\n",
      "Training Evaluation\n",
      "Mean Squarred Error: 0.005465882626984113\n",
      "R squarred : 0.9900340093005275\n",
      "Adjusted R Squarred : 0.9896158558446057\n",
      "\n",
      "Evaluation for Other Data\n",
      "Mean Squarred Error: 0.030100519558080772\n",
      "R squarred : 0.9547613604952456\n",
      "Adjusted R Squarred : 0.9528632357607804\n",
      "\n",
      "********** LinearRegression **********\n",
      "Training Evaluation\n",
      "Mean Squarred Error: 0.028252163140960157\n",
      "R squarred : 0.9484875884980095\n",
      "Adjusted R Squarred : 0.946326228574849\n",
      "\n",
      "Evaluation for Other Data\n",
      "Mean Squarred Error: 0.020725352010714817\n",
      "R squarred : 0.9688514769184388\n",
      "Adjusted R Squarred : 0.9675445458800516\n",
      "\n",
      "********** RidgeRegression **********\n",
      "Training Evaluation\n",
      "Mean Squarred Error: 0.028474082368576747\n",
      "R squarred : 0.9480829612658874\n",
      "Adjusted R Squarred : 0.9459046239763442\n",
      "\n",
      "Evaluation for Other Data\n",
      "Mean Squarred Error: 0.018931769319775124\n",
      "R squarred : 0.9715470862291294\n",
      "Adjusted R Squarred : 0.9703532576793027\n",
      "\n",
      "********** LassoRegression **********\n",
      "Training Evaluation\n",
      "Mean Squarred Error: 0.548453514739229\n",
      "R squarred : 0.0\n",
      "Adjusted R Squarred : -0.04195804195804187\n",
      "\n",
      "Evaluation for Other Data\n",
      "Mean Squarred Error: 0.7859101216244073\n",
      "R squarred : -0.18115916925292908\n",
      "Adjusted R Squarred : -0.23071829523556953\n",
      "\n",
      "********** ElasticNetRegression **********\n",
      "Training Evaluation\n",
      "Mean Squarred Error: 0.3643712165726968\n",
      "R squarred : 0.3356388339567066\n",
      "Adjusted R Squarred : 0.3077635402765684\n",
      "\n",
      "Evaluation for Other Data\n",
      "Mean Squarred Error: 0.5101418643534305\n",
      "R squarred : 0.23329815443093904\n",
      "Adjusted R Squarred : 0.20112884622524418\n",
      "\n",
      "********** SVR **********\n",
      "Training Evaluation\n",
      "Mean Squarred Error: 0.022187043823572963\n",
      "R squarred : 0.9595461725974678\n",
      "Adjusted R Squarred : 0.957848809209949\n",
      "\n",
      "Evaluation for Other Data\n",
      "Mean Squarred Error: 0.028866723642105508\n",
      "R squarred : 0.9566156556863151\n",
      "Adjusted R Squarred : 0.9547953335472794\n",
      "\n",
      "********** DecisionTreeRegressor **********\n",
      "Training Evaluation\n",
      "Mean Squarred Error: 0.0008095238095238091\n",
      "R squarred : 0.998523988291134\n",
      "Adjusted R Squarred : 0.9984620577299228\n",
      "\n",
      "Evaluation for Other Data\n",
      "Mean Squarred Error: 0.054545454545454536\n",
      "R squarred : 0.9180226058874674\n",
      "Adjusted R Squarred : 0.9145829949456828\n",
      "\n"
     ]
    }
   ],
   "source": [
    "for i in range(len(list(models))):\n",
    "    print(\"*\"*10,list(models.keys())[i],\"*\"*10)\n",
    "    model = list(models.values())[i]\n",
    "    model.fit(X_train, y_train)\n",
    "    \n",
    "    y_pred_train = model.predict(X_train)\n",
    "    y_pred_eval = model.predict(X_eval)\n",
    "    \n",
    "    # Training Evaluation\n",
    "    mse_train = mean_squared_error(y_train, y_pred_train)\n",
    "    r2score_train = r2_score(y_train, y_pred_train)\n",
    "    adj_r2score_train = 1 - ((1-r2score_train)*(n-1)/(n-k-1))\n",
    "    \n",
    "    # Other Data Evaluation  \n",
    "    mse_other = mean_squared_error(y_eval, y_pred_eval)\n",
    "    r2score_other = r2_score(y_eval, y_pred_eval)\n",
    "    adj_r2score_other = 1 - ((1-r2score_other)*(n-1)/(n-k-1))\n",
    "    \n",
    "    print(f\"Training Evaluation\")\n",
    "    print(f\"Mean Squarred Error: {mse_train}\")\n",
    "    print(f\"R squarred : {r2score_train}\")\n",
    "    print(f\"Adjusted R Squarred : {adj_r2score_train}\")\n",
    "    \n",
    "    print()\n",
    "    \n",
    "    print(f\"Evaluation for Other Data\")\n",
    "    print(f\"Mean Squarred Error: {mse_other}\")\n",
    "    print(f\"R squarred : {r2score_other}\")\n",
    "    print(f\"Adjusted R Squarred : {adj_r2score_other}\")\n",
    "    print()   \n"
   ]
  },
  {
   "cell_type": "markdown",
   "id": "f3be4beb",
   "metadata": {},
   "source": [
    "### 4. Hyper Parameter Tuning for Random Forest Algorithm"
   ]
  },
  {
   "cell_type": "code",
   "execution_count": 30,
   "id": "f8ff847e",
   "metadata": {
    "scrolled": false
   },
   "outputs": [],
   "source": [
    "prediction_data = algoparams['design_state_data']['algorithms']"
   ]
  },
  {
   "cell_type": "code",
   "execution_count": 31,
   "id": "309b1d1b",
   "metadata": {
    "scrolled": false
   },
   "outputs": [
    {
     "data": {
      "text/plain": [
       "{'model_name': 'Random Forest Regressor',\n",
       " 'is_selected': True,\n",
       " 'min_trees': 10,\n",
       " 'max_trees': 20,\n",
       " 'feature_sampling_statergy': 'Default',\n",
       " 'min_depth': 20,\n",
       " 'max_depth': 25,\n",
       " 'min_samples_per_leaf_min_value': 5,\n",
       " 'min_samples_per_leaf_max_value': 10,\n",
       " 'parallelism': 0}"
      ]
     },
     "execution_count": 31,
     "metadata": {},
     "output_type": "execute_result"
    }
   ],
   "source": [
    "prediction_data['RandomForestRegressor']"
   ]
  },
  {
   "cell_type": "code",
   "execution_count": 32,
   "id": "065660fc",
   "metadata": {},
   "outputs": [],
   "source": [
    "rfr = RandomForestRegressor()"
   ]
  },
  {
   "cell_type": "code",
   "execution_count": 33,
   "id": "34a9767c",
   "metadata": {},
   "outputs": [],
   "source": [
    "param_grid = {\"n_estimators\":list(range(10,21)),\n",
    "              \"max_depth\" : list(range(20,26)),\n",
    "              \"min_samples_leaf\": list(range(5,11))\n",
    "    }"
   ]
  },
  {
   "cell_type": "code",
   "execution_count": 34,
   "id": "3483edb4",
   "metadata": {},
   "outputs": [],
   "source": [
    "grid_rfr = GridSearchCV(rfr, param_grid,cv=6)"
   ]
  },
  {
   "cell_type": "code",
   "execution_count": 35,
   "id": "33567416",
   "metadata": {
    "scrolled": true
   },
   "outputs": [
    {
     "data": {
      "text/html": [
       "<style>#sk-container-id-3 {color: black;background-color: white;}#sk-container-id-3 pre{padding: 0;}#sk-container-id-3 div.sk-toggleable {background-color: white;}#sk-container-id-3 label.sk-toggleable__label {cursor: pointer;display: block;width: 100%;margin-bottom: 0;padding: 0.3em;box-sizing: border-box;text-align: center;}#sk-container-id-3 label.sk-toggleable__label-arrow:before {content: \"▸\";float: left;margin-right: 0.25em;color: #696969;}#sk-container-id-3 label.sk-toggleable__label-arrow:hover:before {color: black;}#sk-container-id-3 div.sk-estimator:hover label.sk-toggleable__label-arrow:before {color: black;}#sk-container-id-3 div.sk-toggleable__content {max-height: 0;max-width: 0;overflow: hidden;text-align: left;background-color: #f0f8ff;}#sk-container-id-3 div.sk-toggleable__content pre {margin: 0.2em;color: black;border-radius: 0.25em;background-color: #f0f8ff;}#sk-container-id-3 input.sk-toggleable__control:checked~div.sk-toggleable__content {max-height: 200px;max-width: 100%;overflow: auto;}#sk-container-id-3 input.sk-toggleable__control:checked~label.sk-toggleable__label-arrow:before {content: \"▾\";}#sk-container-id-3 div.sk-estimator input.sk-toggleable__control:checked~label.sk-toggleable__label {background-color: #d4ebff;}#sk-container-id-3 div.sk-label input.sk-toggleable__control:checked~label.sk-toggleable__label {background-color: #d4ebff;}#sk-container-id-3 input.sk-hidden--visually {border: 0;clip: rect(1px 1px 1px 1px);clip: rect(1px, 1px, 1px, 1px);height: 1px;margin: -1px;overflow: hidden;padding: 0;position: absolute;width: 1px;}#sk-container-id-3 div.sk-estimator {font-family: monospace;background-color: #f0f8ff;border: 1px dotted black;border-radius: 0.25em;box-sizing: border-box;margin-bottom: 0.5em;}#sk-container-id-3 div.sk-estimator:hover {background-color: #d4ebff;}#sk-container-id-3 div.sk-parallel-item::after {content: \"\";width: 100%;border-bottom: 1px solid gray;flex-grow: 1;}#sk-container-id-3 div.sk-label:hover label.sk-toggleable__label {background-color: #d4ebff;}#sk-container-id-3 div.sk-serial::before {content: \"\";position: absolute;border-left: 1px solid gray;box-sizing: border-box;top: 0;bottom: 0;left: 50%;z-index: 0;}#sk-container-id-3 div.sk-serial {display: flex;flex-direction: column;align-items: center;background-color: white;padding-right: 0.2em;padding-left: 0.2em;position: relative;}#sk-container-id-3 div.sk-item {position: relative;z-index: 1;}#sk-container-id-3 div.sk-parallel {display: flex;align-items: stretch;justify-content: center;background-color: white;position: relative;}#sk-container-id-3 div.sk-item::before, #sk-container-id-3 div.sk-parallel-item::before {content: \"\";position: absolute;border-left: 1px solid gray;box-sizing: border-box;top: 0;bottom: 0;left: 50%;z-index: -1;}#sk-container-id-3 div.sk-parallel-item {display: flex;flex-direction: column;z-index: 1;position: relative;background-color: white;}#sk-container-id-3 div.sk-parallel-item:first-child::after {align-self: flex-end;width: 50%;}#sk-container-id-3 div.sk-parallel-item:last-child::after {align-self: flex-start;width: 50%;}#sk-container-id-3 div.sk-parallel-item:only-child::after {width: 0;}#sk-container-id-3 div.sk-dashed-wrapped {border: 1px dashed gray;margin: 0 0.4em 0.5em 0.4em;box-sizing: border-box;padding-bottom: 0.4em;background-color: white;}#sk-container-id-3 div.sk-label label {font-family: monospace;font-weight: bold;display: inline-block;line-height: 1.2em;}#sk-container-id-3 div.sk-label-container {text-align: center;}#sk-container-id-3 div.sk-container {/* jupyter's `normalize.less` sets `[hidden] { display: none; }` but bootstrap.min.css set `[hidden] { display: none !important; }` so we also need the `!important` here to be able to override the default hidden behavior on the sphinx rendered scikit-learn.org. See: https://github.com/scikit-learn/scikit-learn/issues/21755 */display: inline-block !important;position: relative;}#sk-container-id-3 div.sk-text-repr-fallback {display: none;}</style><div id=\"sk-container-id-3\" class=\"sk-top-container\"><div class=\"sk-text-repr-fallback\"><pre>GridSearchCV(cv=6, estimator=RandomForestRegressor(),\n",
       "             param_grid={&#x27;max_depth&#x27;: [20, 21, 22, 23, 24, 25],\n",
       "                         &#x27;min_samples_leaf&#x27;: [5, 6, 7, 8, 9, 10],\n",
       "                         &#x27;n_estimators&#x27;: [10, 11, 12, 13, 14, 15, 16, 17, 18,\n",
       "                                          19, 20]})</pre><b>In a Jupyter environment, please rerun this cell to show the HTML representation or trust the notebook. <br />On GitHub, the HTML representation is unable to render, please try loading this page with nbviewer.org.</b></div><div class=\"sk-container\" hidden><div class=\"sk-item sk-dashed-wrapped\"><div class=\"sk-label-container\"><div class=\"sk-label sk-toggleable\"><input class=\"sk-toggleable__control sk-hidden--visually\" id=\"sk-estimator-id-5\" type=\"checkbox\" ><label for=\"sk-estimator-id-5\" class=\"sk-toggleable__label sk-toggleable__label-arrow\">GridSearchCV</label><div class=\"sk-toggleable__content\"><pre>GridSearchCV(cv=6, estimator=RandomForestRegressor(),\n",
       "             param_grid={&#x27;max_depth&#x27;: [20, 21, 22, 23, 24, 25],\n",
       "                         &#x27;min_samples_leaf&#x27;: [5, 6, 7, 8, 9, 10],\n",
       "                         &#x27;n_estimators&#x27;: [10, 11, 12, 13, 14, 15, 16, 17, 18,\n",
       "                                          19, 20]})</pre></div></div></div><div class=\"sk-parallel\"><div class=\"sk-parallel-item\"><div class=\"sk-item\"><div class=\"sk-label-container\"><div class=\"sk-label sk-toggleable\"><input class=\"sk-toggleable__control sk-hidden--visually\" id=\"sk-estimator-id-6\" type=\"checkbox\" ><label for=\"sk-estimator-id-6\" class=\"sk-toggleable__label sk-toggleable__label-arrow\">estimator: RandomForestRegressor</label><div class=\"sk-toggleable__content\"><pre>RandomForestRegressor()</pre></div></div></div><div class=\"sk-serial\"><div class=\"sk-item\"><div class=\"sk-estimator sk-toggleable\"><input class=\"sk-toggleable__control sk-hidden--visually\" id=\"sk-estimator-id-7\" type=\"checkbox\" ><label for=\"sk-estimator-id-7\" class=\"sk-toggleable__label sk-toggleable__label-arrow\">RandomForestRegressor</label><div class=\"sk-toggleable__content\"><pre>RandomForestRegressor()</pre></div></div></div></div></div></div></div></div></div></div>"
      ],
      "text/plain": [
       "GridSearchCV(cv=6, estimator=RandomForestRegressor(),\n",
       "             param_grid={'max_depth': [20, 21, 22, 23, 24, 25],\n",
       "                         'min_samples_leaf': [5, 6, 7, 8, 9, 10],\n",
       "                         'n_estimators': [10, 11, 12, 13, 14, 15, 16, 17, 18,\n",
       "                                          19, 20]})"
      ]
     },
     "execution_count": 35,
     "metadata": {},
     "output_type": "execute_result"
    }
   ],
   "source": [
    "grid_rfr.fit(X_train, y_train)"
   ]
  },
  {
   "cell_type": "code",
   "execution_count": 36,
   "id": "434ab236",
   "metadata": {},
   "outputs": [
    {
     "data": {
      "text/plain": [
       "{'max_depth': 22, 'min_samples_leaf': 6, 'n_estimators': 11}"
      ]
     },
     "execution_count": 36,
     "metadata": {},
     "output_type": "execute_result"
    }
   ],
   "source": [
    "grid_rfr.best_params_"
   ]
  },
  {
   "cell_type": "code",
   "execution_count": 37,
   "id": "325c1168",
   "metadata": {
    "scrolled": true
   },
   "outputs": [
    {
     "data": {
      "text/html": [
       "<style>#sk-container-id-4 {color: black;background-color: white;}#sk-container-id-4 pre{padding: 0;}#sk-container-id-4 div.sk-toggleable {background-color: white;}#sk-container-id-4 label.sk-toggleable__label {cursor: pointer;display: block;width: 100%;margin-bottom: 0;padding: 0.3em;box-sizing: border-box;text-align: center;}#sk-container-id-4 label.sk-toggleable__label-arrow:before {content: \"▸\";float: left;margin-right: 0.25em;color: #696969;}#sk-container-id-4 label.sk-toggleable__label-arrow:hover:before {color: black;}#sk-container-id-4 div.sk-estimator:hover label.sk-toggleable__label-arrow:before {color: black;}#sk-container-id-4 div.sk-toggleable__content {max-height: 0;max-width: 0;overflow: hidden;text-align: left;background-color: #f0f8ff;}#sk-container-id-4 div.sk-toggleable__content pre {margin: 0.2em;color: black;border-radius: 0.25em;background-color: #f0f8ff;}#sk-container-id-4 input.sk-toggleable__control:checked~div.sk-toggleable__content {max-height: 200px;max-width: 100%;overflow: auto;}#sk-container-id-4 input.sk-toggleable__control:checked~label.sk-toggleable__label-arrow:before {content: \"▾\";}#sk-container-id-4 div.sk-estimator input.sk-toggleable__control:checked~label.sk-toggleable__label {background-color: #d4ebff;}#sk-container-id-4 div.sk-label input.sk-toggleable__control:checked~label.sk-toggleable__label {background-color: #d4ebff;}#sk-container-id-4 input.sk-hidden--visually {border: 0;clip: rect(1px 1px 1px 1px);clip: rect(1px, 1px, 1px, 1px);height: 1px;margin: -1px;overflow: hidden;padding: 0;position: absolute;width: 1px;}#sk-container-id-4 div.sk-estimator {font-family: monospace;background-color: #f0f8ff;border: 1px dotted black;border-radius: 0.25em;box-sizing: border-box;margin-bottom: 0.5em;}#sk-container-id-4 div.sk-estimator:hover {background-color: #d4ebff;}#sk-container-id-4 div.sk-parallel-item::after {content: \"\";width: 100%;border-bottom: 1px solid gray;flex-grow: 1;}#sk-container-id-4 div.sk-label:hover label.sk-toggleable__label {background-color: #d4ebff;}#sk-container-id-4 div.sk-serial::before {content: \"\";position: absolute;border-left: 1px solid gray;box-sizing: border-box;top: 0;bottom: 0;left: 50%;z-index: 0;}#sk-container-id-4 div.sk-serial {display: flex;flex-direction: column;align-items: center;background-color: white;padding-right: 0.2em;padding-left: 0.2em;position: relative;}#sk-container-id-4 div.sk-item {position: relative;z-index: 1;}#sk-container-id-4 div.sk-parallel {display: flex;align-items: stretch;justify-content: center;background-color: white;position: relative;}#sk-container-id-4 div.sk-item::before, #sk-container-id-4 div.sk-parallel-item::before {content: \"\";position: absolute;border-left: 1px solid gray;box-sizing: border-box;top: 0;bottom: 0;left: 50%;z-index: -1;}#sk-container-id-4 div.sk-parallel-item {display: flex;flex-direction: column;z-index: 1;position: relative;background-color: white;}#sk-container-id-4 div.sk-parallel-item:first-child::after {align-self: flex-end;width: 50%;}#sk-container-id-4 div.sk-parallel-item:last-child::after {align-self: flex-start;width: 50%;}#sk-container-id-4 div.sk-parallel-item:only-child::after {width: 0;}#sk-container-id-4 div.sk-dashed-wrapped {border: 1px dashed gray;margin: 0 0.4em 0.5em 0.4em;box-sizing: border-box;padding-bottom: 0.4em;background-color: white;}#sk-container-id-4 div.sk-label label {font-family: monospace;font-weight: bold;display: inline-block;line-height: 1.2em;}#sk-container-id-4 div.sk-label-container {text-align: center;}#sk-container-id-4 div.sk-container {/* jupyter's `normalize.less` sets `[hidden] { display: none; }` but bootstrap.min.css set `[hidden] { display: none !important; }` so we also need the `!important` here to be able to override the default hidden behavior on the sphinx rendered scikit-learn.org. See: https://github.com/scikit-learn/scikit-learn/issues/21755 */display: inline-block !important;position: relative;}#sk-container-id-4 div.sk-text-repr-fallback {display: none;}</style><div id=\"sk-container-id-4\" class=\"sk-top-container\"><div class=\"sk-text-repr-fallback\"><pre>RandomForestRegressor(max_depth=22, min_samples_leaf=6, n_estimators=11)</pre><b>In a Jupyter environment, please rerun this cell to show the HTML representation or trust the notebook. <br />On GitHub, the HTML representation is unable to render, please try loading this page with nbviewer.org.</b></div><div class=\"sk-container\" hidden><div class=\"sk-item\"><div class=\"sk-estimator sk-toggleable\"><input class=\"sk-toggleable__control sk-hidden--visually\" id=\"sk-estimator-id-8\" type=\"checkbox\" checked><label for=\"sk-estimator-id-8\" class=\"sk-toggleable__label sk-toggleable__label-arrow\">RandomForestRegressor</label><div class=\"sk-toggleable__content\"><pre>RandomForestRegressor(max_depth=22, min_samples_leaf=6, n_estimators=11)</pre></div></div></div></div></div>"
      ],
      "text/plain": [
       "RandomForestRegressor(max_depth=22, min_samples_leaf=6, n_estimators=11)"
      ]
     },
     "execution_count": 37,
     "metadata": {},
     "output_type": "execute_result"
    }
   ],
   "source": [
    "grid_rfr.best_estimator_"
   ]
  },
  {
   "cell_type": "markdown",
   "id": "c67952c6",
   "metadata": {},
   "source": [
    "### 5. Final Model Metrics"
   ]
  },
  {
   "cell_type": "markdown",
   "id": "b120b916",
   "metadata": {},
   "source": [
    "##### Final prediction using best model for Test Data (Not Used for evaluation before)"
   ]
  },
  {
   "cell_type": "code",
   "execution_count": 38,
   "id": "f2907bd5",
   "metadata": {},
   "outputs": [],
   "source": [
    "y_pred = grid_rfr.predict(X_test)"
   ]
  },
  {
   "cell_type": "code",
   "execution_count": 39,
   "id": "c957706d",
   "metadata": {
    "scrolled": false
   },
   "outputs": [
    {
     "data": {
      "text/plain": [
       "0.027939665574402823"
      ]
     },
     "execution_count": 39,
     "metadata": {},
     "output_type": "execute_result"
    }
   ],
   "source": [
    "mean_squared_error(y_test,y_pred)"
   ]
  },
  {
   "cell_type": "code",
   "execution_count": 40,
   "id": "3649c0c8",
   "metadata": {},
   "outputs": [],
   "source": [
    "r2score_test = r2_score(y_test,y_pred)\n",
    "adj_r2score_test = 1 - ((1-r2score_test)*(n-1)/(n-k-1))"
   ]
  },
  {
   "cell_type": "code",
   "execution_count": 41,
   "id": "62df6b17",
   "metadata": {},
   "outputs": [
    {
     "name": "stdout",
     "output_type": "stream",
     "text": [
      "R squarred : 0.9464761241078471\n",
      "Adjusted R Squarred : 0.9442303670774072\n"
     ]
    }
   ],
   "source": [
    "print(f\"R squarred : {r2score_test}\")\n",
    "print(f\"Adjusted R Squarred : {adj_r2score_test}\")"
   ]
  }
 ],
 "metadata": {
  "kernelspec": {
   "display_name": "Python 3 (ipykernel)",
   "language": "python",
   "name": "python3"
  },
  "language_info": {
   "codemirror_mode": {
    "name": "ipython",
    "version": 3
   },
   "file_extension": ".py",
   "mimetype": "text/x-python",
   "name": "python",
   "nbconvert_exporter": "python",
   "pygments_lexer": "ipython3",
   "version": "3.9.7"
  }
 },
 "nbformat": 4,
 "nbformat_minor": 5
}
